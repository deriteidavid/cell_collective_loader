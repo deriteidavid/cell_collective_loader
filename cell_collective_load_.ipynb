{
 "cells": [
  {
   "cell_type": "markdown",
   "metadata": {},
   "source": [
    "This is a notebook that downloads all models uploaded to the cell collective and creates local sbml and booleannet files. It also collects all molecular species in all models in a table (dataframe) with associated models, links, etc."
   ]
  },
  {
   "cell_type": "code",
   "execution_count": 1,
   "metadata": {},
   "outputs": [],
   "source": [
    "import cellcollective #https://github.com/colomoto/colomoto-jupyter\n",
    "import biolqm #https://github.com/GINsim/GINsim-python\n",
    "import requests\n",
    "import json\n",
    "from urllib.request import urlretrieve\n",
    "import glob\n",
    "import pandas as pd"
   ]
  },
  {
   "cell_type": "code",
   "execution_count": 2,
   "metadata": {},
   "outputs": [],
   "source": [
    "#a simple function creating a permanent local file from the retrieved model file\n",
    "def download_local(url, path, model_id, suffix='sbml'):\n",
    "    filename = path+str(model_id)+'.'+suffix\n",
    "    filename, _ = urlretrieve(url, filename=filename)\n",
    "    return filename"
   ]
  },
  {
   "cell_type": "markdown",
   "metadata": {},
   "source": [
    "Output folders"
   ]
  },
  {
   "cell_type": "code",
   "execution_count": 3,
   "metadata": {},
   "outputs": [],
   "source": [
    "sbmls_path='sbmls/'\n",
    "boolean_models_path='boolean_models/'\n",
    "\n",
    "#if they don't exist we create them\n",
    "import os\n",
    "if not os.path.exists(sbmls_path):\n",
    "    os.makedirs(sbmls_path)\n",
    "if not os.path.exists(boolean_models_path):\n",
    "    os.makedirs(boolean_models_path)\n"
   ]
  },
  {
   "cell_type": "markdown",
   "metadata": {},
   "source": [
    "Getting the model ids from the cell collective website"
   ]
  },
  {
   "cell_type": "code",
   "execution_count": 4,
   "metadata": {},
   "outputs": [],
   "source": [
    "headers = {\n",
    "  \"User-Agent\": \"Mozilla/5.0 (Windows NT 6.1; Win64; x64) AppleWebKit/537.36 (KHTML, like Gecko) Chrome/72.0.3626.119 Safari/537.36\"\n",
    "}\n",
    "\n",
    "url = \"https://research.cellcollective.org/api/model\"\n",
    "\n",
    "r = requests.get(url, headers=headers)\n",
    "data = r.json()\n",
    "model_name_dict={}\n",
    "for i in range(len(data['data'])):\n",
    "    if 'model' in data['data'][i].keys():\n",
    "        model_name_dict[data['data'][i]['model']['id']]=data['data'][i]['model']['name']\n",
    "        "
   ]
  },
  {
   "cell_type": "code",
   "execution_count": 5,
   "metadata": {},
   "outputs": [],
   "source": [
    "#print(model_name_dict)"
   ]
  },
  {
   "cell_type": "markdown",
   "metadata": {},
   "source": [
    "This is manually curated list from which all model ids will be skipped from downloading and all subsequent analysis."
   ]
  },
  {
   "cell_type": "code",
   "execution_count": 6,
   "metadata": {},
   "outputs": [],
   "source": [
    "exception_list=[126843,3511,118235,15088,36604]"
   ]
  },
  {
   "cell_type": "markdown",
   "metadata": {},
   "source": [
    "The download script checks the sbml folder for models already downloaded and skips them (it still downloads newly uploaded models). If set this to True to ignore the contents of the sbml folder."
   ]
  },
  {
   "cell_type": "code",
   "execution_count": 7,
   "metadata": {},
   "outputs": [],
   "source": [
    "download_all_again=False"
   ]
  },
  {
   "cell_type": "code",
   "execution_count": 8,
   "metadata": {},
   "outputs": [
    {
     "name": "stdout",
     "output_type": "stream",
     "text": [
      "Checking 2309\n"
     ]
    },
    {
     "data": {
      "text/markdown": [
       "Downloading https://research.cellcollective.org/api/model/2309/export/version/1?type=SBML"
      ],
      "text/plain": [
       "<IPython.core.display.Markdown object>"
      ]
     },
     "metadata": {},
     "output_type": "display_data"
    },
    {
     "name": "stdout",
     "output_type": "stream",
     "text": [
      "EGFR & ErbB Signaling\n",
      "Checking 5128\n"
     ]
    },
    {
     "data": {
      "text/markdown": [
       "Downloading https://research.cellcollective.org/api/model/5128/export/version/1?type=SBML"
      ],
      "text/plain": [
       "<IPython.core.display.Markdown object>"
      ]
     },
     "metadata": {},
     "output_type": "display_data"
    },
    {
     "name": "stdout",
     "output_type": "stream",
     "text": [
      "Lac Operon\n",
      "Checking 10248\n"
     ]
    },
    {
     "data": {
      "text/markdown": [
       "Downloading https://research.cellcollective.org/api/model/10248/export/version/1?type=SBML"
      ],
      "text/plain": [
       "<IPython.core.display.Markdown object>"
      ]
     },
     "metadata": {},
     "output_type": "display_data"
    },
    {
     "name": "stdout",
     "output_type": "stream",
     "text": [
      "Bacteriophages in Cheese Production - Single Vat 2 (Inv 4)\n",
      "Checking 141066\n"
     ]
    },
    {
     "data": {
      "text/markdown": [
       "Downloading https://research.cellcollective.org/api/model/141066/export/version/1?type=SBML"
      ],
      "text/plain": [
       "<IPython.core.display.Markdown object>"
      ]
     },
     "metadata": {},
     "output_type": "display_data"
    },
    {
     "name": "stdout",
     "output_type": "stream",
     "text": [
      "141066 HTTP Error 500: Internal Server Error\n",
      "Checking 2314\n"
     ]
    },
    {
     "data": {
      "text/markdown": [
       "Downloading https://research.cellcollective.org/api/model/2314/export/version/1?type=SBML"
      ],
      "text/plain": [
       "<IPython.core.display.Markdown object>"
      ]
     },
     "metadata": {},
     "output_type": "display_data"
    },
    {
     "name": "stdout",
     "output_type": "stream",
     "text": [
      "IL-6 Signalling\n",
      "Checking 16659\n"
     ]
    },
    {
     "data": {
      "text/markdown": [
       "Downloading https://research.cellcollective.org/api/model/16659/export/version/1?type=SBML"
      ],
      "text/plain": [
       "<IPython.core.display.Markdown object>"
      ]
     },
     "metadata": {},
     "output_type": "display_data"
    },
    {
     "name": "stdout",
     "output_type": "stream",
     "text": [
      "Modeling Light Reactions and Dark Reactions in Photosynthesis\n",
      "Checking 1557\n"
     ]
    },
    {
     "data": {
      "text/markdown": [
       "Downloading https://research.cellcollective.org/api/model/1557/export/version/1?type=SBML"
      ],
      "text/plain": [
       "<IPython.core.display.Markdown object>"
      ]
     },
     "metadata": {},
     "output_type": "display_data"
    },
    {
     "name": "stdout",
     "output_type": "stream",
     "text": [
      "Signal Transduction in Fibroblasts\n",
      "Checking 6678\n"
     ]
    },
    {
     "data": {
      "text/markdown": [
       "Downloading https://research.cellcollective.org/api/model/6678/export/version/1?type=SBML"
      ],
      "text/plain": [
       "<IPython.core.display.Markdown object>"
      ]
     },
     "metadata": {},
     "output_type": "display_data"
    },
    {
     "name": "stdout",
     "output_type": "stream",
     "text": [
      "CD4+ T cell Differentiation\n",
      "Checking 2329\n"
     ]
    },
    {
     "data": {
      "text/markdown": [
       "Downloading https://research.cellcollective.org/api/model/2329/export/version/1?type=SBML"
      ],
      "text/plain": [
       "<IPython.core.display.Markdown object>"
      ]
     },
     "metadata": {},
     "output_type": "display_data"
    },
    {
     "name": "stdout",
     "output_type": "stream",
     "text": [
      "Apoptosis Network\n",
      "Checking 17433\n"
     ]
    },
    {
     "data": {
      "text/markdown": [
       "Downloading https://research.cellcollective.org/api/model/17433/export/version/1?type=SBML"
      ],
      "text/plain": [
       "<IPython.core.display.Markdown object>"
      ]
     },
     "metadata": {},
     "output_type": "display_data"
    },
    {
     "name": "stdout",
     "output_type": "stream",
     "text": [
      "17433 HTTP Error 500: Internal Server Error\n",
      "Checking 8227\n"
     ]
    },
    {
     "data": {
      "text/markdown": [
       "Downloading https://research.cellcollective.org/api/model/8227/export/version/1?type=SBML"
      ],
      "text/plain": [
       "<IPython.core.display.Markdown object>"
      ]
     },
     "metadata": {},
     "output_type": "display_data"
    },
    {
     "name": "stdout",
     "output_type": "stream",
     "text": [
      "T-LGL Survival Network 2011 Reduced Network\n",
      "Checking 2084\n"
     ]
    },
    {
     "data": {
      "text/markdown": [
       "Downloading https://research.cellcollective.org/api/model/2084/export/version/1?type=SBML"
      ],
      "text/plain": [
       "<IPython.core.display.Markdown object>"
      ]
     },
     "metadata": {},
     "output_type": "display_data"
    },
    {
     "name": "stdout",
     "output_type": "stream",
     "text": [
      "Death Receptor Signaling\n",
      "Checking 2341\n"
     ]
    },
    {
     "data": {
      "text/markdown": [
       "Downloading https://research.cellcollective.org/api/model/2341/export/version/1?type=SBML"
      ],
      "text/plain": [
       "<IPython.core.display.Markdown object>"
      ]
     },
     "metadata": {},
     "output_type": "display_data"
    },
    {
     "name": "stdout",
     "output_type": "stream",
     "text": [
      "Body Segmentation in Drosophila 2013\n",
      "Checking 153639\n"
     ]
    },
    {
     "data": {
      "text/markdown": [
       "Downloading https://research.cellcollective.org/api/model/153639/export/version/1?type=SBML"
      ],
      "text/plain": [
       "<IPython.core.display.Markdown object>"
      ]
     },
     "metadata": {},
     "output_type": "display_data"
    },
    {
     "name": "stdout",
     "output_type": "stream",
     "text": [
      "Computational Modeling Lesson Structure\n",
      "Checking 36647\n"
     ]
    },
    {
     "data": {
      "text/markdown": [
       "Downloading https://research.cellcollective.org/api/model/36647/export/version/1?type=SBML"
      ],
      "text/plain": [
       "<IPython.core.display.Markdown object>"
      ]
     },
     "metadata": {},
     "output_type": "display_data"
    },
    {
     "name": "stdout",
     "output_type": "stream",
     "text": [
      "Cell Cycle Regulation - Investigation 1\n",
      "Checking 121641\n"
     ]
    },
    {
     "data": {
      "text/markdown": [
       "Downloading https://research.cellcollective.org/api/model/121641/export/version/1?type=SBML"
      ],
      "text/plain": [
       "<IPython.core.display.Markdown object>"
      ]
     },
     "metadata": {},
     "output_type": "display_data"
    },
    {
     "name": "stdout",
     "output_type": "stream",
     "text": [
      "Introduction to Food Web Dynamics_Incubator20\n",
      "Checking 36652\n"
     ]
    },
    {
     "data": {
      "text/markdown": [
       "Downloading https://research.cellcollective.org/api/model/36652/export/version/1?type=SBML"
      ],
      "text/plain": [
       "<IPython.core.display.Markdown object>"
      ]
     },
     "metadata": {},
     "output_type": "display_data"
    },
    {
     "name": "stdout",
     "output_type": "stream",
     "text": [
      "Cell Cycle Tumorigenesis - Investigation 2\n",
      "Checking 1582\n"
     ]
    },
    {
     "data": {
      "text/markdown": [
       "Downloading https://research.cellcollective.org/api/model/1582/export/version/1?type=SBML"
      ],
      "text/plain": [
       "<IPython.core.display.Markdown object>"
      ]
     },
     "metadata": {},
     "output_type": "display_data"
    },
    {
     "name": "stdout",
     "output_type": "stream",
     "text": [
      "Signaling in Macrophage Activation\n",
      "Checking 7984\n"
     ]
    },
    {
     "data": {
      "text/markdown": [
       "Downloading https://research.cellcollective.org/api/model/7984/export/version/1?type=SBML"
      ],
      "text/plain": [
       "<IPython.core.display.Markdown object>"
      ]
     },
     "metadata": {},
     "output_type": "display_data"
    },
    {
     "name": "stdout",
     "output_type": "stream",
     "text": [
      "MAPK Cancer Cell Fate Network\n",
      "Checking 29742\n"
     ]
    },
    {
     "data": {
      "text/markdown": [
       "Downloading https://research.cellcollective.org/api/model/29742/export/version/1?type=SBML"
      ],
      "text/plain": [
       "<IPython.core.display.Markdown object>"
      ]
     },
     "metadata": {},
     "output_type": "display_data"
    },
    {
     "name": "stdout",
     "output_type": "stream",
     "text": [
      "29742 HTTP Error 404: Not Found\n",
      "Checking 17416\n"
     ]
    },
    {
     "data": {
      "text/markdown": [
       "Downloading https://research.cellcollective.org/api/model/17416/export/version/1?type=SBML"
      ],
      "text/plain": [
       "<IPython.core.display.Markdown object>"
      ]
     },
     "metadata": {},
     "output_type": "display_data"
    },
    {
     "name": "stdout",
     "output_type": "stream",
     "text": [
      "17416 HTTP Error 404: Not Found\n",
      "Checking 121654\n"
     ]
    },
    {
     "data": {
      "text/markdown": [
       "Downloading https://research.cellcollective.org/api/model/121654/export/version/1?type=SBML"
      ],
      "text/plain": [
       "<IPython.core.display.Markdown object>"
      ]
     },
     "metadata": {},
     "output_type": "display_data"
    },
    {
     "name": "stdout",
     "output_type": "stream",
     "text": [
      "Introduction to Food Web Dynamics - 2020 Summer Science AC\n",
      "Checking 153919\n"
     ]
    },
    {
     "data": {
      "text/markdown": [
       "Downloading https://research.cellcollective.org/api/model/153919/export/version/1?type=SBML"
      ],
      "text/plain": [
       "<IPython.core.display.Markdown object>"
      ]
     },
     "metadata": {},
     "output_type": "display_data"
    },
    {
     "name": "stdout",
     "output_type": "stream",
     "text": [
      "153919 HTTP Error 500: Internal Server Error\n",
      "Checking 4932\n"
     ]
    },
    {
     "data": {
      "text/markdown": [
       "Downloading https://research.cellcollective.org/api/model/4932/export/version/1?type=SBML"
      ],
      "text/plain": [
       "<IPython.core.display.Markdown object>"
      ]
     },
     "metadata": {},
     "output_type": "display_data"
    },
    {
     "name": "stdout",
     "output_type": "stream",
     "text": [
      "Stomatal Opening Model\n",
      "Checking 1607\n"
     ]
    },
    {
     "data": {
      "text/markdown": [
       "Downloading https://research.cellcollective.org/api/model/1607/export/version/1?type=SBML"
      ],
      "text/plain": [
       "<IPython.core.display.Markdown object>"
      ]
     },
     "metadata": {},
     "output_type": "display_data"
    },
    {
     "name": "stdout",
     "output_type": "stream",
     "text": [
      "Mammalian Cell Cycle\n",
      "Checking 4942\n"
     ]
    },
    {
     "data": {
      "text/markdown": [
       "Downloading https://research.cellcollective.org/api/model/4942/export/version/1?type=SBML"
      ],
      "text/plain": [
       "<IPython.core.display.Markdown object>"
      ]
     },
     "metadata": {},
     "output_type": "display_data"
    },
    {
     "name": "stdout",
     "output_type": "stream",
     "text": [
      "Pro-inflammatory Tumor Microenvironment in Acute Lymphoblastic Leukemia\n",
      "Checking 55633\n"
     ]
    },
    {
     "data": {
      "text/markdown": [
       "Downloading https://research.cellcollective.org/api/model/55633/export/version/1?type=SBML"
      ],
      "text/plain": [
       "<IPython.core.display.Markdown object>"
      ]
     },
     "metadata": {},
     "output_type": "display_data"
    },
    {
     "name": "stdout",
     "output_type": "stream",
     "text": [
      "Cell Collective Training Module: Factors Influencing Exam Scores\n",
      "Checking 126290\n"
     ]
    },
    {
     "data": {
      "text/markdown": [
       "Downloading https://research.cellcollective.org/api/model/126290/export/version/1?type=SBML"
      ],
      "text/plain": [
       "<IPython.core.display.Markdown object>"
      ]
     },
     "metadata": {},
     "output_type": "display_data"
    },
    {
     "name": "stdout",
     "output_type": "stream",
     "text": [
      "126290 HTTP Error 500: Internal Server Error\n",
      "Checking 2901\n"
     ]
    },
    {
     "data": {
      "text/markdown": [
       "Downloading https://research.cellcollective.org/api/model/2901/export/version/1?type=SBML"
      ],
      "text/plain": [
       "<IPython.core.display.Markdown object>"
      ]
     },
     "metadata": {},
     "output_type": "display_data"
    },
    {
     "name": "stdout",
     "output_type": "stream",
     "text": [
      "T cell differentiation\n",
      "Checking 2135\n"
     ]
    },
    {
     "data": {
      "text/markdown": [
       "Downloading https://research.cellcollective.org/api/model/2135/export/version/1?type=SBML"
      ],
      "text/plain": [
       "<IPython.core.display.Markdown object>"
      ]
     },
     "metadata": {},
     "output_type": "display_data"
    },
    {
     "name": "stdout",
     "output_type": "stream",
     "text": [
      "Yeast Apoptosis\n",
      "Checking 11863\n"
     ]
    },
    {
     "data": {
      "text/markdown": [
       "Downloading https://research.cellcollective.org/api/model/11863/export/version/1?type=SBML"
      ],
      "text/plain": [
       "<IPython.core.display.Markdown object>"
      ]
     },
     "metadata": {},
     "output_type": "display_data"
    },
    {
     "name": "stdout",
     "output_type": "stream",
     "text": [
      "Senescence Associated Secretory Phenotype\n",
      "Checking 2136\n"
     ]
    },
    {
     "data": {
      "text/markdown": [
       "Downloading https://research.cellcollective.org/api/model/2136/export/version/1?type=SBML"
      ],
      "text/plain": [
       "<IPython.core.display.Markdown object>"
      ]
     },
     "metadata": {},
     "output_type": "display_data"
    },
    {
     "name": "stdout",
     "output_type": "stream",
     "text": [
      "Cardiac development\n",
      "Checking 2394\n"
     ]
    },
    {
     "data": {
      "text/markdown": [
       "Downloading https://research.cellcollective.org/api/model/2394/export/version/1?type=SBML"
      ],
      "text/plain": [
       "<IPython.core.display.Markdown object>"
      ]
     },
     "metadata": {},
     "output_type": "display_data"
    },
    {
     "name": "stdout",
     "output_type": "stream",
     "text": [
      "B cell differentiation\n",
      "Checking 2396\n"
     ]
    },
    {
     "data": {
      "text/markdown": [
       "Downloading https://research.cellcollective.org/api/model/2396/export/version/1?type=SBML"
      ],
      "text/plain": [
       "<IPython.core.display.Markdown object>"
      ]
     },
     "metadata": {},
     "output_type": "display_data"
    },
    {
     "name": "stdout",
     "output_type": "stream",
     "text": [
      "Mammalian Cell Cycle 2006\n",
      "Checking 4705\n"
     ]
    },
    {
     "data": {
      "text/markdown": [
       "Downloading https://research.cellcollective.org/api/model/4705/export/version/1?type=SBML"
      ],
      "text/plain": [
       "<IPython.core.display.Markdown object>"
      ]
     },
     "metadata": {},
     "output_type": "display_data"
    },
    {
     "name": "stdout",
     "output_type": "stream",
     "text": [
      "Septation Initiation Network\n",
      "Checking 4706\n"
     ]
    },
    {
     "data": {
      "text/markdown": [
       "Downloading https://research.cellcollective.org/api/model/4706/export/version/1?type=SBML"
      ],
      "text/plain": [
       "<IPython.core.display.Markdown object>"
      ]
     },
     "metadata": {},
     "output_type": "display_data"
    },
    {
     "name": "stdout",
     "output_type": "stream",
     "text": [
      "Predicting Variabilities in Cardiac Gene\n",
      "Checking 5731\n"
     ]
    },
    {
     "data": {
      "text/markdown": [
       "Downloading https://research.cellcollective.org/api/model/5731/export/version/1?type=SBML"
      ],
      "text/plain": [
       "<IPython.core.display.Markdown object>"
      ]
     },
     "metadata": {},
     "output_type": "display_data"
    },
    {
     "name": "stdout",
     "output_type": "stream",
     "text": [
      "Metabolic Interactions in the Gut Microbiome\n",
      "Checking 2404\n"
     ]
    },
    {
     "data": {
      "text/markdown": [
       "Downloading https://research.cellcollective.org/api/model/2404/export/version/1?type=SBML"
      ],
      "text/plain": [
       "<IPython.core.display.Markdown object>"
      ]
     },
     "metadata": {},
     "output_type": "display_data"
    },
    {
     "name": "stdout",
     "output_type": "stream",
     "text": [
      "Budding Yeast Cell Cycle\n",
      "Checking 2407\n"
     ]
    },
    {
     "data": {
      "text/markdown": [
       "Downloading https://research.cellcollective.org/api/model/2407/export/version/1?type=SBML"
      ],
      "text/plain": [
       "<IPython.core.display.Markdown object>"
      ]
     },
     "metadata": {},
     "output_type": "display_data"
    },
    {
     "name": "stdout",
     "output_type": "stream",
     "text": [
      "T-LGL Survival Network 2011\n",
      "Checking 2663\n"
     ]
    },
    {
     "data": {
      "text/markdown": [
       "Downloading https://research.cellcollective.org/api/model/2663/export/version/1?type=SBML"
      ],
      "text/plain": [
       "<IPython.core.display.Markdown object>"
      ]
     },
     "metadata": {},
     "output_type": "display_data"
    },
    {
     "name": "stdout",
     "output_type": "stream",
     "text": [
      "Wg Pathway of Drosophila Signalling Pathways\n",
      "Checking 121704\n"
     ]
    },
    {
     "data": {
      "text/markdown": [
       "Downloading https://research.cellcollective.org/api/model/121704/export/version/1?type=SBML"
      ],
      "text/plain": [
       "<IPython.core.display.Markdown object>"
      ]
     },
     "metadata": {},
     "output_type": "display_data"
    },
    {
     "name": "stdout",
     "output_type": "stream",
     "text": [
      "Introduction to Food Web Dynamics_Incubator20_Ready_Published\n",
      "Checking 2667\n"
     ]
    },
    {
     "data": {
      "text/markdown": [
       "Downloading https://research.cellcollective.org/api/model/2667/export/version/1?type=SBML"
      ],
      "text/plain": [
       "<IPython.core.display.Markdown object>"
      ]
     },
     "metadata": {},
     "output_type": "display_data"
    },
    {
     "name": "stdout",
     "output_type": "stream",
     "text": [
      "VEGF Pathway of Drosophila Signaling Pathway\n",
      "Checking 2668\n"
     ]
    },
    {
     "data": {
      "text/markdown": [
       "Downloading https://research.cellcollective.org/api/model/2668/export/version/1?type=SBML"
      ],
      "text/plain": [
       "<IPython.core.display.Markdown object>"
      ]
     },
     "metadata": {},
     "output_type": "display_data"
    },
    {
     "name": "stdout",
     "output_type": "stream",
     "text": [
      "Toll Pathway of Drosophila Signaling Pathway\n",
      "Checking 2669\n"
     ]
    },
    {
     "data": {
      "text/markdown": [
       "Downloading https://research.cellcollective.org/api/model/2669/export/version/1?type=SBML"
      ],
      "text/plain": [
       "<IPython.core.display.Markdown object>"
      ]
     },
     "metadata": {},
     "output_type": "display_data"
    },
    {
     "name": "stdout",
     "output_type": "stream",
     "text": [
      "Processing of Spz Network from the Drosophila Signaling Pathway\n",
      "Checking 8558\n"
     ]
    },
    {
     "data": {
      "text/markdown": [
       "Downloading https://research.cellcollective.org/api/model/8558/export/version/1?type=SBML"
      ],
      "text/plain": [
       "<IPython.core.display.Markdown object>"
      ]
     },
     "metadata": {},
     "output_type": "display_data"
    },
    {
     "name": "stdout",
     "output_type": "stream",
     "text": [
      "8558 HTTP Error 500: Internal Server Error\n",
      "Checking 8048\n"
     ]
    },
    {
     "data": {
      "text/markdown": [
       "Downloading https://research.cellcollective.org/api/model/8048/export/version/1?type=SBML"
      ],
      "text/plain": [
       "<IPython.core.display.Markdown object>"
      ]
     },
     "metadata": {},
     "output_type": "display_data"
    },
    {
     "name": "stdout",
     "output_type": "stream",
     "text": [
      "Treatment of Castration-Resistant Prostate Cancer\n",
      "Checking 2161\n"
     ]
    },
    {
     "data": {
      "text/markdown": [
       "Downloading https://research.cellcollective.org/api/model/2161/export/version/1?type=SBML"
      ],
      "text/plain": [
       "<IPython.core.display.Markdown object>"
      ]
     },
     "metadata": {},
     "output_type": "display_data"
    },
    {
     "name": "stdout",
     "output_type": "stream",
     "text": [
      "Guard Cell Abscisic Acid Signaling\n",
      "Checking 2423\n"
     ]
    },
    {
     "data": {
      "text/markdown": [
       "Downloading https://research.cellcollective.org/api/model/2423/export/version/1?type=SBML"
      ],
      "text/plain": [
       "<IPython.core.display.Markdown object>"
      ]
     },
     "metadata": {},
     "output_type": "display_data"
    },
    {
     "name": "stdout",
     "output_type": "stream",
     "text": [
      "Budding Yeast Cell Cycle 2009\n",
      "Checking 2681\n"
     ]
    },
    {
     "data": {
      "text/markdown": [
       "Downloading https://research.cellcollective.org/api/model/2681/export/version/1?type=SBML"
      ],
      "text/plain": [
       "<IPython.core.display.Markdown object>"
      ]
     },
     "metadata": {},
     "output_type": "display_data"
    },
    {
     "name": "stdout",
     "output_type": "stream",
     "text": [
      "Cell Cycle Transcription by Coupled CDK and Network Oscillators\n",
      "Checking 126843\n",
      "Model id is in exception list\n",
      "Checking 2171\n"
     ]
    },
    {
     "data": {
      "text/markdown": [
       "Downloading https://research.cellcollective.org/api/model/2171/export/version/1?type=SBML"
      ],
      "text/plain": [
       "<IPython.core.display.Markdown object>"
      ]
     },
     "metadata": {},
     "output_type": "display_data"
    },
    {
     "name": "stdout",
     "output_type": "stream",
     "text": [
      "T Cell Receptor Signaling\n",
      "Checking 2172\n"
     ]
    },
    {
     "data": {
      "text/markdown": [
       "Downloading https://research.cellcollective.org/api/model/2172/export/version/1?type=SBML"
      ],
      "text/plain": [
       "<IPython.core.display.Markdown object>"
      ]
     },
     "metadata": {},
     "output_type": "display_data"
    },
    {
     "name": "stdout",
     "output_type": "stream",
     "text": [
      "Cholesterol Regulatory Pathway\n",
      "Checking 29564\n"
     ]
    },
    {
     "data": {
      "text/markdown": [
       "Downloading https://research.cellcollective.org/api/model/29564/export/version/1?type=SBML"
      ],
      "text/plain": [
       "<IPython.core.display.Markdown object>"
      ]
     },
     "metadata": {},
     "output_type": "display_data"
    },
    {
     "name": "stdout",
     "output_type": "stream",
     "text": [
      "Regulation of Cellular Respiration: ETC and Fermentation\n"
     ]
    },
    {
     "ename": "Py4JJavaError",
     "evalue": "An error occurred while calling o154.call.\n: java.lang.RuntimeException: Invalid ID: 2ATP\n\tat org.colomoto.biolqm.NodeInfo.setNodeID(NodeInfo.java:49)\n\tat org.colomoto.biolqm.modifier.sanitize.SanitizeModifier.ensureUniqueID(SanitizeModifier.java:103)\n\tat org.colomoto.biolqm.modifier.sanitize.SanitizeModifier.sanitizeIDs(SanitizeModifier.java:79)\n\tat org.colomoto.biolqm.modifier.sanitize.SanitizeModifier.performTask(SanitizeModifier.java:32)\n\tat org.colomoto.biolqm.modifier.sanitize.SanitizeModifier.performTask(SanitizeModifier.java:15)\n\tat org.colomoto.common.task.AbstractTask.call(AbstractTask.java:48)\n\tat jdk.internal.reflect.GeneratedMethodAccessor4.invoke(Unknown Source)\n\tat java.base/jdk.internal.reflect.DelegatingMethodAccessorImpl.invoke(DelegatingMethodAccessorImpl.java:43)\n\tat java.base/java.lang.reflect.Method.invoke(Method.java:566)\n\tat py4j.reflection.MethodInvoker.invoke(MethodInvoker.java:244)\n\tat py4j.reflection.ReflectionEngine.invoke(ReflectionEngine.java:357)\n\tat py4j.Gateway.invoke(Gateway.java:282)\n\tat py4j.commands.AbstractCommand.invokeMethod(AbstractCommand.java:132)\n\tat py4j.commands.CallCommand.execute(CallCommand.java:79)\n\tat py4j.GatewayConnection.run(GatewayConnection.java:238)\n\tat java.base/java.lang.Thread.run(Thread.java:834)\n",
     "output_type": "error",
     "traceback": [
      "\u001b[0;31m---------------------------------------------------------------------------\u001b[0m",
      "\u001b[0;31mPy4JJavaError\u001b[0m                             Traceback (most recent call last)",
      "\u001b[0;32m<ipython-input-8-fe8d0c10c617>\u001b[0m in \u001b[0;36m<module>\u001b[0;34m\u001b[0m\n\u001b[1;32m     27\u001b[0m         \u001b[0msbml\u001b[0m\u001b[0;34m.\u001b[0m\u001b[0mlocalfile\u001b[0m\u001b[0;34m=\u001b[0m\u001b[0mfilename\u001b[0m\u001b[0;34m\u001b[0m\u001b[0;34m\u001b[0m\u001b[0m\n\u001b[1;32m     28\u001b[0m         \u001b[0;31m#save to boolean net\u001b[0m\u001b[0;34m\u001b[0m\u001b[0;34m\u001b[0m\u001b[0;34m\u001b[0m\u001b[0m\n\u001b[0;32m---> 29\u001b[0;31m         \u001b[0mlqm\u001b[0m \u001b[0;34m=\u001b[0m \u001b[0mcellcollective\u001b[0m\u001b[0;34m.\u001b[0m\u001b[0mto_biolqm\u001b[0m\u001b[0;34m(\u001b[0m\u001b[0msbml\u001b[0m\u001b[0;34m)\u001b[0m\u001b[0;34m\u001b[0m\u001b[0;34m\u001b[0m\u001b[0m\n\u001b[0m\u001b[1;32m     30\u001b[0m         \u001b[0mbiolqm\u001b[0m\u001b[0;34m.\u001b[0m\u001b[0msave\u001b[0m\u001b[0;34m(\u001b[0m\u001b[0mlqm\u001b[0m\u001b[0;34m,\u001b[0m \u001b[0;34m\"%s%d_%s.booleannet\"\u001b[0m\u001b[0;34m%\u001b[0m\u001b[0;34m(\u001b[0m\u001b[0mboolean_models_path\u001b[0m\u001b[0;34m,\u001b[0m\u001b[0mmodel_id\u001b[0m\u001b[0;34m,\u001b[0m\u001b[0mmodel_name\u001b[0m\u001b[0;34m.\u001b[0m\u001b[0mreplace\u001b[0m\u001b[0;34m(\u001b[0m\u001b[0;34m' '\u001b[0m\u001b[0;34m,\u001b[0m\u001b[0;34m'_'\u001b[0m\u001b[0;34m)\u001b[0m\u001b[0;34m)\u001b[0m\u001b[0;34m,\u001b[0m \u001b[0;34m\"booleannet\"\u001b[0m\u001b[0;34m)\u001b[0m\u001b[0;34m\u001b[0m\u001b[0;34m\u001b[0m\u001b[0m\n\u001b[1;32m     31\u001b[0m \u001b[0;34m\u001b[0m\u001b[0m\n",
      "\u001b[0;32m~/anaconda2/envs/python_3_env/lib/python3.7/site-packages/cellcollective.py\u001b[0m in \u001b[0;36mto_biolqm\u001b[0;34m(model)\u001b[0m\n\u001b[1;32m    134\u001b[0m     \u001b[0mbiolqm\u001b[0m \u001b[0;34m=\u001b[0m \u001b[0mimport_colomoto_tool\u001b[0m\u001b[0;34m(\u001b[0m\u001b[0;34m\"biolqm\"\u001b[0m\u001b[0;34m)\u001b[0m\u001b[0;34m\u001b[0m\u001b[0;34m\u001b[0m\u001b[0m\n\u001b[1;32m    135\u001b[0m     \u001b[0mlqm\u001b[0m \u001b[0;34m=\u001b[0m \u001b[0mbiolqm\u001b[0m\u001b[0;34m.\u001b[0m\u001b[0mload\u001b[0m\u001b[0;34m(\u001b[0m\u001b[0mmodel\u001b[0m\u001b[0;34m.\u001b[0m\u001b[0mlocalfile\u001b[0m\u001b[0;34m)\u001b[0m\u001b[0;34m\u001b[0m\u001b[0;34m\u001b[0m\u001b[0m\n\u001b[0;32m--> 136\u001b[0;31m     \u001b[0;32mreturn\u001b[0m \u001b[0mbiolqm\u001b[0m\u001b[0;34m.\u001b[0m\u001b[0msanitize\u001b[0m\u001b[0;34m(\u001b[0m\u001b[0mlqm\u001b[0m\u001b[0;34m)\u001b[0m\u001b[0;34m\u001b[0m\u001b[0;34m\u001b[0m\u001b[0m\n\u001b[0m\u001b[1;32m    137\u001b[0m \u001b[0;34m\u001b[0m\u001b[0m\n",
      "\u001b[0;32m~/anaconda2/envs/python_3_env/lib/python3.7/site-packages/biolqm/__init__.py\u001b[0m in \u001b[0;36m__call__\u001b[0;34m(self, model, parameters)\u001b[0m\n\u001b[1;32m     66\u001b[0m \u001b[0;34m\u001b[0m\u001b[0m\n\u001b[1;32m     67\u001b[0m     \u001b[0;32mdef\u001b[0m \u001b[0m__call__\u001b[0m\u001b[0;34m(\u001b[0m\u001b[0mself\u001b[0m\u001b[0;34m,\u001b[0m \u001b[0mmodel\u001b[0m\u001b[0;34m,\u001b[0m \u001b[0mparameters\u001b[0m\u001b[0;34m=\u001b[0m\u001b[0;32mNone\u001b[0m\u001b[0;34m)\u001b[0m\u001b[0;34m:\u001b[0m\u001b[0;34m\u001b[0m\u001b[0;34m\u001b[0m\u001b[0m\n\u001b[0;32m---> 68\u001b[0;31m         \u001b[0;32mreturn\u001b[0m \u001b[0mself\u001b[0m\u001b[0;34m.\u001b[0m\u001b[0mgetModifier\u001b[0m\u001b[0;34m(\u001b[0m\u001b[0mmodel\u001b[0m\u001b[0;34m,\u001b[0m \u001b[0mparameters\u001b[0m\u001b[0;34m)\u001b[0m\u001b[0;34m.\u001b[0m\u001b[0mcall\u001b[0m\u001b[0;34m(\u001b[0m\u001b[0;34m)\u001b[0m\u001b[0;34m\u001b[0m\u001b[0;34m\u001b[0m\u001b[0m\n\u001b[0m\u001b[1;32m     69\u001b[0m \u001b[0;34m\u001b[0m\u001b[0m\n\u001b[1;32m     70\u001b[0m     \u001b[0;32mdef\u001b[0m \u001b[0m__getattr__\u001b[0m\u001b[0;34m(\u001b[0m\u001b[0mself\u001b[0m\u001b[0;34m,\u001b[0m \u001b[0mname\u001b[0m\u001b[0;34m)\u001b[0m\u001b[0;34m:\u001b[0m\u001b[0;34m\u001b[0m\u001b[0;34m\u001b[0m\u001b[0m\n",
      "\u001b[0;32m~/anaconda2/envs/python_3_env/lib/python3.7/site-packages/py4j/java_gateway.py\u001b[0m in \u001b[0;36m__call__\u001b[0;34m(self, *args)\u001b[0m\n\u001b[1;32m   1303\u001b[0m         \u001b[0manswer\u001b[0m \u001b[0;34m=\u001b[0m \u001b[0mself\u001b[0m\u001b[0;34m.\u001b[0m\u001b[0mgateway_client\u001b[0m\u001b[0;34m.\u001b[0m\u001b[0msend_command\u001b[0m\u001b[0;34m(\u001b[0m\u001b[0mcommand\u001b[0m\u001b[0;34m)\u001b[0m\u001b[0;34m\u001b[0m\u001b[0;34m\u001b[0m\u001b[0m\n\u001b[1;32m   1304\u001b[0m         return_value = get_return_value(\n\u001b[0;32m-> 1305\u001b[0;31m             answer, self.gateway_client, self.target_id, self.name)\n\u001b[0m\u001b[1;32m   1306\u001b[0m \u001b[0;34m\u001b[0m\u001b[0m\n\u001b[1;32m   1307\u001b[0m         \u001b[0;32mfor\u001b[0m \u001b[0mtemp_arg\u001b[0m \u001b[0;32min\u001b[0m \u001b[0mtemp_args\u001b[0m\u001b[0;34m:\u001b[0m\u001b[0;34m\u001b[0m\u001b[0;34m\u001b[0m\u001b[0m\n",
      "\u001b[0;32m~/anaconda2/envs/python_3_env/lib/python3.7/site-packages/py4j/protocol.py\u001b[0m in \u001b[0;36mget_return_value\u001b[0;34m(answer, gateway_client, target_id, name)\u001b[0m\n\u001b[1;32m    326\u001b[0m                 raise Py4JJavaError(\n\u001b[1;32m    327\u001b[0m                     \u001b[0;34m\"An error occurred while calling {0}{1}{2}.\\n\"\u001b[0m\u001b[0;34m.\u001b[0m\u001b[0;34m\u001b[0m\u001b[0;34m\u001b[0m\u001b[0m\n\u001b[0;32m--> 328\u001b[0;31m                     format(target_id, \".\", name), value)\n\u001b[0m\u001b[1;32m    329\u001b[0m             \u001b[0;32melse\u001b[0m\u001b[0;34m:\u001b[0m\u001b[0;34m\u001b[0m\u001b[0;34m\u001b[0m\u001b[0m\n\u001b[1;32m    330\u001b[0m                 raise Py4JError(\n",
      "\u001b[0;31mPy4JJavaError\u001b[0m: An error occurred while calling o154.call.\n: java.lang.RuntimeException: Invalid ID: 2ATP\n\tat org.colomoto.biolqm.NodeInfo.setNodeID(NodeInfo.java:49)\n\tat org.colomoto.biolqm.modifier.sanitize.SanitizeModifier.ensureUniqueID(SanitizeModifier.java:103)\n\tat org.colomoto.biolqm.modifier.sanitize.SanitizeModifier.sanitizeIDs(SanitizeModifier.java:79)\n\tat org.colomoto.biolqm.modifier.sanitize.SanitizeModifier.performTask(SanitizeModifier.java:32)\n\tat org.colomoto.biolqm.modifier.sanitize.SanitizeModifier.performTask(SanitizeModifier.java:15)\n\tat org.colomoto.common.task.AbstractTask.call(AbstractTask.java:48)\n\tat jdk.internal.reflect.GeneratedMethodAccessor4.invoke(Unknown Source)\n\tat java.base/jdk.internal.reflect.DelegatingMethodAccessorImpl.invoke(DelegatingMethodAccessorImpl.java:43)\n\tat java.base/java.lang.reflect.Method.invoke(Method.java:566)\n\tat py4j.reflection.MethodInvoker.invoke(MethodInvoker.java:244)\n\tat py4j.reflection.ReflectionEngine.invoke(ReflectionEngine.java:357)\n\tat py4j.Gateway.invoke(Gateway.java:282)\n\tat py4j.commands.AbstractCommand.invokeMethod(AbstractCommand.java:132)\n\tat py4j.commands.CallCommand.execute(CallCommand.java:79)\n\tat py4j.GatewayConnection.run(GatewayConnection.java:238)\n\tat java.base/java.lang.Thread.run(Thread.java:834)\n"
     ]
    }
   ],
   "source": [
    "\n",
    "species_dict={}\n",
    "df=pd.DataFrame()\n",
    "\n",
    "for model_id in model_name_dict:\n",
    "    print('Checking',model_id)\n",
    "    if model_id in exception_list:\n",
    "        print('Model id is in exception list')\n",
    "        continue\n",
    "    downloaded_model_paths=glob.glob(sbmls_path+'*.sbml')\n",
    "    if not download_all_again:\n",
    "        downloaded_models=[int(i.split('/')[-1].split('.')[0]) for i in downloaded_model_paths]\n",
    "    else:\n",
    "        downloaded_models=[]\n",
    "\n",
    "    if model_id not in downloaded_models:\n",
    "        url='https://research.cellcollective.org/api/model/%d/export/version/1?type=SBML'%model_id\n",
    "        try:\n",
    "            sbml = cellcollective.load(url)\n",
    "        except Exception as e:\n",
    "            print(model_id, str(e))\n",
    "            continue\n",
    "        model_name=sbml.dom.getElementsByTagName('model')[0].getAttribute('name')\n",
    "        print(model_name)\n",
    "\n",
    "        #I download the file again locally because the colomoto biolqm.load does not work with the temporal download initiated by the the cellcollective script.\n",
    "        filename = download_local(url,sbmls_path,model_id)\n",
    "        sbml.localfile=filename\n",
    "        #save to boolean net\n",
    "        lqm = cellcollective.to_biolqm(sbml)\n",
    "        biolqm.save(lqm, \"%s%d_%s.booleannet\"%(boolean_models_path,model_id,model_name.replace(' ','_')), \"booleannet\")\n",
    "\n",
    "    sbml = cellcollective.load(sbmls_path+str(model_id)+'.sbml')\n",
    "    for s in sbml.species:\n",
    "        if sbml.species_uniprotkb(s)!=None:\n",
    "            uniprot=sbml.species_uniprotkb(s).data\n",
    "        else:\n",
    "            uniprot=None\n",
    "            \n",
    "        row={'species':s.strip(),\n",
    "             'model_id':model_id,\n",
    "             'model_name':model_name_dict[model_id],\n",
    "             'uniprot_info':uniprot,\n",
    "             'ncbi_gene_info':sbml.species_ncbi_gene(s),\n",
    "             'link_to_model':'https://research.cellcollective.org/?dashboard=true#module/%d:1/'%model_id}\n",
    "        df=df.append(row,ignore_index=True)\n",
    "        if s in species_dict:\n",
    "            species_dict[s].append(model_id)\n",
    "        else:\n",
    "            species_dict[s]=[model_id]\n",
    "    "
   ]
  },
  {
   "cell_type": "code",
   "execution_count": null,
   "metadata": {},
   "outputs": [],
   "source": [
    "#a dictionary mapping molecular species to model_ids of models containing them\n",
    "print(species_dict)"
   ]
  },
  {
   "cell_type": "markdown",
   "metadata": {},
   "source": [
    "There exists several python interfaces to programmatically query information from these databases:\n",
    "- using NBCI Gene ID: https://github.com/biocommons/eutils\n",
    "- using UniProt ID: https://github.com/jdrudolph/uniprot"
   ]
  },
  {
   "cell_type": "code",
   "execution_count": null,
   "metadata": {},
   "outputs": [],
   "source": [
    "df = df.reindex(['species','model_id','model_name','link_to_model','uniprot_info','ncbi_gene_info'], axis=1)"
   ]
  },
  {
   "cell_type": "code",
   "execution_count": null,
   "metadata": {},
   "outputs": [],
   "source": [
    "df = df.sort_values('species')\n",
    "df = df.reset_index(drop=True)\n",
    "df.to_excel('cell_collective_species_data.xlsx')"
   ]
  },
  {
   "cell_type": "code",
   "execution_count": null,
   "metadata": {},
   "outputs": [],
   "source": [
    "df"
   ]
  }
 ],
 "metadata": {
  "kernelspec": {
   "display_name": "Python 3",
   "language": "python",
   "name": "python3"
  },
  "language_info": {
   "codemirror_mode": {
    "name": "ipython",
    "version": 3
   },
   "file_extension": ".py",
   "mimetype": "text/x-python",
   "name": "python",
   "nbconvert_exporter": "python",
   "pygments_lexer": "ipython3",
   "version": "3.7.6"
  }
 },
 "nbformat": 4,
 "nbformat_minor": 4
}
